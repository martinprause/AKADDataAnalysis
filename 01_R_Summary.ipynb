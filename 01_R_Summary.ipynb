{
  "nbformat": 4,
  "nbformat_minor": 0,
  "metadata": {
    "colab": {
      "provenance": []
    },
    "kernelspec": {
      "name": "ir",
      "display_name": "R"
    },
    "language_info": {
      "name": "R"
    }
  },
  "cells": [
    {
      "cell_type": "code",
      "execution_count": null,
      "metadata": {
        "id": "HE5Mw0zK93r4"
      },
      "outputs": [],
      "source": [
        "data(\"iris\")\n",
        "str(iris)\n",
        "summary(iris)"
      ]
    }
  ]
}